{
  "nbformat": 4,
  "nbformat_minor": 0,
  "metadata": {
    "colab": {
      "name": "mini_project.ipynb",
      "provenance": [],
      "mount_file_id": "1KSPVkxF1lkJrRT26xsU7YKrm_L9YcghQ",
      "authorship_tag": "ABX9TyNpDvDXJK2RNUpkzjqyzoMA",
      "include_colab_link": true
    },
    "kernelspec": {
      "name": "python3",
      "display_name": "Python 3"
    },
    "language_info": {
      "name": "python"
    }
  },
  "cells": [
    {
      "cell_type": "markdown",
      "metadata": {
        "id": "view-in-github",
        "colab_type": "text"
      },
      "source": [
        "<a href=\"https://colab.research.google.com/github/BharathKrishna29/image_classification/blob/main/mini_project.ipynb\" target=\"_parent\"><img src=\"https://colab.research.google.com/assets/colab-badge.svg\" alt=\"Open In Colab\"/></a>"
      ]
    },
    {
      "cell_type": "code",
      "metadata": {
        "id": "Ycol11dmQkxs",
        "colab": {
          "base_uri": "https://localhost:8080/"
        },
        "outputId": "83f9098b-3c9b-4c8a-ec84-8d15ac31c993"
      },
      "source": [
        "!pip install ipython-autotime\n",
        "%load_ext autotime"
      ],
      "execution_count": null,
      "outputs": [
        {
          "output_type": "stream",
          "text": [
            "Requirement already satisfied: ipython-autotime in /usr/local/lib/python3.7/dist-packages (0.3.1)\n",
            "Requirement already satisfied: ipython in /usr/local/lib/python3.7/dist-packages (from ipython-autotime) (5.5.0)\n",
            "Requirement already satisfied: traitlets>=4.2 in /usr/local/lib/python3.7/dist-packages (from ipython->ipython-autotime) (5.0.5)\n",
            "Requirement already satisfied: prompt-toolkit<2.0.0,>=1.0.4 in /usr/local/lib/python3.7/dist-packages (from ipython->ipython-autotime) (1.0.18)\n",
            "Requirement already satisfied: pickleshare in /usr/local/lib/python3.7/dist-packages (from ipython->ipython-autotime) (0.7.5)\n",
            "Requirement already satisfied: pygments in /usr/local/lib/python3.7/dist-packages (from ipython->ipython-autotime) (2.6.1)\n",
            "Requirement already satisfied: decorator in /usr/local/lib/python3.7/dist-packages (from ipython->ipython-autotime) (4.4.2)\n",
            "Requirement already satisfied: setuptools>=18.5 in /usr/local/lib/python3.7/dist-packages (from ipython->ipython-autotime) (56.1.0)\n",
            "Requirement already satisfied: pexpect; sys_platform != \"win32\" in /usr/local/lib/python3.7/dist-packages (from ipython->ipython-autotime) (4.8.0)\n",
            "Requirement already satisfied: simplegeneric>0.8 in /usr/local/lib/python3.7/dist-packages (from ipython->ipython-autotime) (0.8.1)\n",
            "Requirement already satisfied: ipython-genutils in /usr/local/lib/python3.7/dist-packages (from traitlets>=4.2->ipython->ipython-autotime) (0.2.0)\n",
            "Requirement already satisfied: wcwidth in /usr/local/lib/python3.7/dist-packages (from prompt-toolkit<2.0.0,>=1.0.4->ipython->ipython-autotime) (0.2.5)\n",
            "Requirement already satisfied: six>=1.9.0 in /usr/local/lib/python3.7/dist-packages (from prompt-toolkit<2.0.0,>=1.0.4->ipython->ipython-autotime) (1.15.0)\n",
            "Requirement already satisfied: ptyprocess>=0.5 in /usr/local/lib/python3.7/dist-packages (from pexpect; sys_platform != \"win32\"->ipython->ipython-autotime) (0.7.0)\n",
            "The autotime extension is already loaded. To reload it, use:\n",
            "  %reload_ext autotime\n",
            "time: 2.86 s (started: 2021-05-23 15:16:22 +00:00)\n"
          ],
          "name": "stdout"
        }
      ]
    },
    {
      "cell_type": "code",
      "metadata": {
        "id": "Zbad5MNcRKDw",
        "colab": {
          "base_uri": "https://localhost:8080/"
        },
        "outputId": "f5ee22bf-4903-48b6-edfc-48995778aa40"
      },
      "source": [
        "!pip install bing-image-downloader"
      ],
      "execution_count": null,
      "outputs": [
        {
          "output_type": "stream",
          "text": [
            "Requirement already satisfied: bing-image-downloader in /usr/local/lib/python3.7/dist-packages (1.0.4)\n",
            "time: 2.75 s (started: 2021-05-23 15:16:43 +00:00)\n"
          ],
          "name": "stdout"
        }
      ]
    },
    {
      "cell_type": "code",
      "metadata": {
        "id": "jMaWUCmPROjl",
        "colab": {
          "base_uri": "https://localhost:8080/"
        },
        "outputId": "0abcae9a-a4eb-4bcc-cf8c-406c1cf8c16e"
      },
      "source": [
        "!mkdir photo"
      ],
      "execution_count": null,
      "outputs": [
        {
          "output_type": "stream",
          "text": [
            "time: 127 ms (started: 2021-05-23 15:17:15 +00:00)\n"
          ],
          "name": "stdout"
        }
      ]
    },
    {
      "cell_type": "code",
      "metadata": {
        "id": "FxMWGBxDRRGx",
        "colab": {
          "base_uri": "https://localhost:8080/"
        },
        "outputId": "3790fe42-c63f-4d83-fa27-2612847e037c"
      },
      "source": [
        "from bing_image_downloader import downloader\n",
        "downloader.download(\"prettiest supermodel\",limit=30,output_dir='photo',adult_filter_off=True)"
      ],
      "execution_count": null,
      "outputs": [
        {
          "output_type": "stream",
          "text": [
            "\n",
            "\n",
            "[!!]Indexing page: 1\n",
            "\n",
            "[%] Indexed 10 Images on Page 1.\n",
            "\n",
            "===============================================\n",
            "\n",
            "[%] Downloading Image #1 from https://www.groundzeroweb.com/wp-content/uploads/2016/08/Most-Beautiful-Models-In-The-World-Adriana-Lima.jpg\n",
            "[%] File Downloaded !\n",
            "\n",
            "[%] Downloading Image #2 from https://www.10wallpaper.com/wallpaper/1920x1200/1203/beautiful_girls-Super_beautiful_photo_wallpaper_1920x1200.jpg\n",
            "[%] File Downloaded !\n",
            "\n",
            "[%] Downloading Image #3 from https://c.pxhere.com/photos/3c/56/girl_woman_beautiful_black_tight_dress_long_wavy_hair_brown_hair_smiling_sitting-1045577.jpg!d\n",
            "[%] File Downloaded !\n",
            "\n",
            "[%] Downloading Image #4 from http://1.bp.blogspot.com/-WlFSUf2VHXQ/Umt8QUZMBZI/AAAAAAAAALo/mmwduPNqtTw/s1600/miss+croatia2.jpg\n",
            "[%] File Downloaded !\n",
            "\n",
            "[%] Downloading Image #5 from https://www.oppagirls.com/wp-content/uploads/2019/01/Pichana-Yoosuk-9.jpg\n",
            "[%] File Downloaded !\n",
            "\n",
            "[%] Downloading Image #6 from https://i.pinimg.com/originals/5b/0c/71/5b0c7126a21fac7097a1a77191d82e88.jpg\n",
            "[%] File Downloaded !\n",
            "\n",
            "[%] Downloading Image #7 from https://i.pinimg.com/originals/58/f5/24/58f52472c57f6e2e7e17e8363d9e5253.jpg\n",
            "[%] File Downloaded !\n",
            "\n",
            "[%] Downloading Image #8 from http://www.ucityguides.com/images/top10/blond-woman.jpg\n",
            "[%] File Downloaded !\n",
            "\n",
            "[%] Downloading Image #9 from https://thumbs.dreamstime.com/z/beautiful-sexy-woman-long-blonde-hair-portrait-fashion-model-posing-studio-black-background-flying-45447793.jpg\n",
            "[%] File Downloaded !\n",
            "\n",
            "[%] Downloading Image #10 from https://media.emirates247.com/images/2014/08/bot1.jpg\n",
            "[%] File Downloaded !\n",
            "\n",
            "\n",
            "\n",
            "[!!]Indexing page: 2\n",
            "\n",
            "[%] Indexed 10 Images on Page 2.\n",
            "\n",
            "===============================================\n",
            "\n",
            "[%] Downloading Image #11 from https://www.groundzeroweb.com/wp-content/uploads/2016/08/Most-Beautiful-Models-In-The-World-Adriana-Lima.jpg\n",
            "[%] File Downloaded !\n",
            "\n",
            "[%] Downloading Image #12 from https://www.10wallpaper.com/wallpaper/1920x1200/1203/beautiful_girls-Super_beautiful_photo_wallpaper_1920x1200.jpg\n",
            "[%] File Downloaded !\n",
            "\n",
            "[%] Downloading Image #13 from https://c.pxhere.com/photos/3c/56/girl_woman_beautiful_black_tight_dress_long_wavy_hair_brown_hair_smiling_sitting-1045577.jpg!d\n",
            "[%] File Downloaded !\n",
            "\n",
            "[%] Downloading Image #14 from http://1.bp.blogspot.com/-WlFSUf2VHXQ/Umt8QUZMBZI/AAAAAAAAALo/mmwduPNqtTw/s1600/miss+croatia2.jpg\n",
            "[%] File Downloaded !\n",
            "\n",
            "[%] Downloading Image #15 from https://www.oppagirls.com/wp-content/uploads/2019/01/Pichana-Yoosuk-9.jpg\n",
            "[%] File Downloaded !\n",
            "\n",
            "[%] Downloading Image #16 from https://i.pinimg.com/originals/5b/0c/71/5b0c7126a21fac7097a1a77191d82e88.jpg\n",
            "[%] File Downloaded !\n",
            "\n",
            "[%] Downloading Image #17 from https://i.pinimg.com/originals/58/f5/24/58f52472c57f6e2e7e17e8363d9e5253.jpg\n",
            "[%] File Downloaded !\n",
            "\n",
            "[%] Downloading Image #18 from http://www.ucityguides.com/images/top10/blond-woman.jpg\n",
            "[%] File Downloaded !\n",
            "\n",
            "[%] Downloading Image #19 from https://thumbs.dreamstime.com/z/beautiful-sexy-woman-long-blonde-hair-portrait-fashion-model-posing-studio-black-background-flying-45447793.jpg\n",
            "[%] File Downloaded !\n",
            "\n",
            "[%] Downloading Image #20 from https://media.emirates247.com/images/2014/08/bot1.jpg\n",
            "[%] File Downloaded !\n",
            "\n",
            "\n",
            "\n",
            "[!!]Indexing page: 3\n",
            "\n",
            "[%] Indexed 9 Images on Page 3.\n",
            "\n",
            "===============================================\n",
            "\n",
            "[%] Downloading Image #21 from https://www.10wallpaper.com/wallpaper/1920x1200/1203/beautiful_girls-Super_beautiful_photo_wallpaper_1920x1200.jpg\n",
            "[%] File Downloaded !\n",
            "\n",
            "[%] Downloading Image #22 from https://media.emirates247.com/images/2014/08/bot1.jpg\n",
            "[%] File Downloaded !\n",
            "\n",
            "[%] Downloading Image #23 from https://www.oppagirls.com/wp-content/uploads/2019/01/Pichana-Yoosuk-9.jpg\n",
            "[%] File Downloaded !\n",
            "\n",
            "[%] Downloading Image #24 from https://i.pinimg.com/originals/58/f5/24/58f52472c57f6e2e7e17e8363d9e5253.jpg\n",
            "[%] File Downloaded !\n",
            "\n",
            "[%] Downloading Image #25 from http://1.bp.blogspot.com/-WlFSUf2VHXQ/Umt8QUZMBZI/AAAAAAAAALo/mmwduPNqtTw/s1600/miss+croatia2.jpg\n",
            "[%] File Downloaded !\n",
            "\n",
            "[%] Downloading Image #26 from https://thumbs.dreamstime.com/z/beautiful-sexy-woman-long-blonde-hair-portrait-fashion-model-posing-studio-black-background-flying-45447793.jpg\n",
            "[%] File Downloaded !\n",
            "\n",
            "[%] Downloading Image #27 from https://i.pinimg.com/originals/5b/0c/71/5b0c7126a21fac7097a1a77191d82e88.jpg\n",
            "[%] File Downloaded !\n",
            "\n",
            "[%] Downloading Image #28 from https://c.pxhere.com/photos/3c/56/girl_woman_beautiful_black_tight_dress_long_wavy_hair_brown_hair_smiling_sitting-1045577.jpg!d\n",
            "[%] File Downloaded !\n",
            "\n",
            "[%] Downloading Image #29 from http://www.ucityguides.com/images/top10/blond-woman.jpg\n",
            "[%] File Downloaded !\n",
            "\n",
            "\n",
            "\n",
            "[!!]Indexing page: 4\n",
            "\n",
            "[%] Indexed 8 Images on Page 4.\n",
            "\n",
            "===============================================\n",
            "\n",
            "[%] Downloading Image #30 from https://www.oppagirls.com/wp-content/uploads/2019/01/Pichana-Yoosuk-9.jpg\n",
            "[%] File Downloaded !\n",
            "\n",
            "\n",
            "\n",
            "[%] Done. Downloaded 30 images.\n",
            "\n",
            "===============================================\n",
            "\n",
            "time: 5.74 s (started: 2021-05-23 15:34:52 +00:00)\n"
          ],
          "name": "stdout"
        }
      ]
    },
    {
      "cell_type": "code",
      "metadata": {
        "colab": {
          "base_uri": "https://localhost:8080/"
        },
        "id": "rDElxgq-3Z8o",
        "outputId": "a128d771-06a2-4909-f6a1-cc543ce51348"
      },
      "source": [
        "downloader.download(\"car\",limit=30,output_dir='photo',adult_filter_off=True)"
      ],
      "execution_count": null,
      "outputs": [
        {
          "output_type": "stream",
          "text": [
            "\n",
            "\n",
            "[!!]Indexing page: 1\n",
            "\n",
            "[%] Indexed 10 Images on Page 1.\n",
            "\n",
            "===============================================\n",
            "\n",
            "[%] Downloading Image #1 from https://www.hdwallpapers.in/download/retro_wave_pink_neon_outrun_car_hd_vaporwave-1366x768.jpg\n",
            "[%] File Downloaded !\n",
            "\n",
            "[%] Downloading Image #2 from http://www.barnorama.com/wp-content/uploads/2017/10/15-creepy_plants.jpg\n",
            "[%] File Downloaded !\n",
            "\n",
            "[%] Downloading Image #3 from http://papers.co/wallpaper/papers.co-ah43-firework-girl-dark-night-anime-art-illust-34-iphone6-plus-wallpaper.jpg\n",
            "[%] File Downloaded !\n",
            "\n",
            "[%] Downloading Image #4 from https://www.design911.co.uk/uploads/Gallery/Autosport_6lr.gif\n",
            "[%] File Downloaded !\n",
            "\n",
            "[%] Downloading Image #5 from http://www.movienewz.com/img/celebs/jessica-alba/photos/thumbs/thumbs-jessica-alba-sin-city-1.jpg\n",
            "[%] File Downloaded !\n",
            "\n",
            "[%] Downloading Image #6 from https://www.setaswall.com/wp-content/uploads/2018/04/Planet-Wallpaper-1080x2280-380x802.jpg\n",
            "[%] File Downloaded !\n",
            "\n",
            "[%] Downloading Image #7 from https://allisonragsdalephotography.com/wp-content/uploads/2014/01/allisonragsdalephotography-1189.jpg\n",
            "[%] File Downloaded !\n",
            "\n",
            "[%] Downloading Image #8 from http://www.wrhi.com/wp-content/uploads/LlamaTeeth-199x300.jpg\n",
            "[%] File Downloaded !\n",
            "\n",
            "[%] Downloading Image #9 from https://money-mod.com/uploads/images/1731/original/sonic-forces-3.jpg\n",
            "[%] File Downloaded !\n",
            "\n",
            "[%] Downloading Image #10 from https://papers.co/wallpaper/papers.co-mk83-amazing-ocean-sea-beach-afternoon-nature-34-iphone6-plus-wallpaper.jpg\n",
            "[%] File Downloaded !\n",
            "\n",
            "\n",
            "\n",
            "[!!]Indexing page: 2\n",
            "\n",
            "[%] Indexed 9 Images on Page 2.\n",
            "\n",
            "===============================================\n",
            "\n",
            "[%] Downloading Image #11 from https://www.hdwallpapers.in/download/ferrari_f12berlinetta-1920x1080.jpg\n",
            "[%] File Downloaded !\n",
            "\n",
            "[%] Downloading Image #12 from https://creepshots.org/wp-content/uploads/2017/09/sister-cleaning-car-9.jpg\n",
            "[%] File Downloaded !\n",
            "\n",
            "[%] Downloading Image #13 from https://www.pixelstalk.net/wp-content/uploads/2016/10/Ford-Shelby-GT500.jpg\n",
            "[%] File Downloaded !\n",
            "\n",
            "[%] Downloading Image #14 from http://media.idownloadblog.com/wp-content/uploads/2015/03/Supercar-Black.png\n",
            "[%] File Downloaded !\n",
            "\n",
            "[%] Downloading Image #15 from https://www.gratistodo.com/wp-content/uploads/2016/08/GTA-5-14-800x500.jpg\n",
            "[%] File Downloaded !\n",
            "\n",
            "[%] Downloading Image #16 from https://www.obnoxiousantiques.com/wp-content/uploads/2016/03/bumper-car-dodgem-5.jpg\n",
            "[%] File Downloaded !\n",
            "\n",
            "[%] Downloading Image #17 from https://oddstuffmagazine.com/wp-content/uploads/2015/03/pantry-doors-650x868.jpg\n",
            "[%] File Downloaded !\n",
            "\n",
            "[%] Downloading Image #18 from http://icirides.com/yahoo_site_admin/assets/images/006.0111722_large.JPG\n",
            "[%] File Downloaded !\n",
            "\n",
            "[%] Downloading Image #19 from https://wanna-joke.com/wp-content/uploads/2014/04/funny-picture-girl-car-dog-scared.jpg\n",
            "[%] File Downloaded !\n",
            "\n",
            "\n",
            "\n",
            "[!!]Indexing page: 3\n",
            "\n",
            "[%] Indexed 8 Images on Page 3.\n",
            "\n",
            "===============================================\n",
            "\n",
            "[%] Downloading Image #20 from https://www.pixelstalk.net/wp-content/uploads/2016/10/Ford-Shelby-GT500.jpg\n",
            "[%] File Downloaded !\n",
            "\n",
            "[%] Downloading Image #21 from http://media.idownloadblog.com/wp-content/uploads/2015/03/Supercar-Black.png\n",
            "[%] File Downloaded !\n",
            "\n",
            "[%] Downloading Image #22 from https://oddstuffmagazine.com/wp-content/uploads/2015/03/pantry-doors-650x868.jpg\n",
            "[%] File Downloaded !\n",
            "\n",
            "[%] Downloading Image #23 from https://www.obnoxiousantiques.com/wp-content/uploads/2016/03/bumper-car-dodgem-5.jpg\n",
            "[%] File Downloaded !\n",
            "\n",
            "[%] Downloading Image #24 from http://icirides.com/yahoo_site_admin/assets/images/006.0111722_large.JPG\n",
            "[%] File Downloaded !\n",
            "\n",
            "[%] Downloading Image #25 from https://wanna-joke.com/wp-content/uploads/2014/04/funny-picture-girl-car-dog-scared.jpg\n",
            "[%] File Downloaded !\n",
            "\n",
            "[%] Downloading Image #26 from https://creepshots.org/wp-content/uploads/2017/09/sister-cleaning-car-9.jpg\n",
            "[%] File Downloaded !\n",
            "\n",
            "[%] Downloading Image #27 from https://www.gratistodo.com/wp-content/uploads/2016/08/GTA-5-14-800x500.jpg\n",
            "[%] File Downloaded !\n",
            "\n",
            "\n",
            "\n",
            "[!!]Indexing page: 4\n",
            "\n",
            "[%] Indexed 7 Images on Page 4.\n",
            "\n",
            "===============================================\n",
            "\n",
            "[%] Downloading Image #28 from http://media.idownloadblog.com/wp-content/uploads/2015/03/Supercar-Black.png\n",
            "[%] File Downloaded !\n",
            "\n",
            "[%] Downloading Image #29 from https://www.obnoxiousantiques.com/wp-content/uploads/2016/03/bumper-car-dodgem-5.jpg\n",
            "[%] File Downloaded !\n",
            "\n",
            "[%] Downloading Image #30 from http://icirides.com/yahoo_site_admin/assets/images/006.0111722_large.JPG\n",
            "[%] File Downloaded !\n",
            "\n",
            "\n",
            "\n",
            "[%] Done. Downloaded 30 images.\n",
            "\n",
            "===============================================\n",
            "\n",
            "time: 17.6 s (started: 2021-05-23 15:35:34 +00:00)\n"
          ],
          "name": "stdout"
        }
      ]
    },
    {
      "cell_type": "code",
      "metadata": {
        "id": "o0EbTlVMRVjn",
        "colab": {
          "base_uri": "https://localhost:8080/"
        },
        "outputId": "0c934b08-256d-42c7-f120-75fb0acb4910"
      },
      "source": [
        "downloader.download(\"lamborghini\",limit=30,output_dir='photo',adult_filter_off=True)"
      ],
      "execution_count": null,
      "outputs": [
        {
          "output_type": "stream",
          "text": [
            "\n",
            "\n",
            "[!!]Indexing page: 1\n",
            "\n",
            "[%] Indexed 10 Images on Page 1.\n",
            "\n",
            "===============================================\n",
            "\n",
            "[%] Downloading Image #1 from https://www.gratistodo.com/wp-content/uploads/2017/01/2017_lamborghini_centenario_4k-1920x1080.jpg\n",
            "[%] File Downloaded !\n",
            "\n",
            "[%] Downloading Image #2 from http://www.hdwallpapers.in/download/2013_novitec_torado_lamborghini_aventador-1280x800.jpg\n",
            "[%] File Downloaded !\n",
            "\n",
            "[%] Downloading Image #3 from https://www.hdwallpapers.in/download/lamborghini_huracan_super_trofeo_evo_2-1920x1080.jpg\n",
            "[%] File Downloaded !\n",
            "\n",
            "[%] Downloading Image #4 from http://www.hdwallpapers.in/download/tron_lamborghini_aventador-1600x900.jpg\n",
            "[%] File Downloaded !\n",
            "\n",
            "[%] Downloading Image #5 from https://wallpapershome.com/images/wallpapers/lamborghini-urus-st-x-1080x1920-suv-supercar-4k-20931.jpeg\n",
            "[%] File Downloaded !\n",
            "\n",
            "[%] Downloading Image #6 from https://www.gratistodo.com/wp-content/uploads/2017/01/Lamborghini-Wallpapers-1920x1080p-6.jpg\n",
            "[%] File Downloaded !\n",
            "\n",
            "[%] Downloading Image #7 from https://www.luxury-sports-cars.com/wp-content/uploads/2016/08/luxury-car-rankings-best-photos-8.jpg\n",
            "[%] File Downloaded !\n",
            "\n",
            "[%] Downloading Image #8 from https://www.carpixel.net/w/272c24152a1639c64a417a099ec4c69b/lamborghini-sian-fkp-37-car-wallpaper-94958.jpg\n",
            "[%] File Downloaded !\n",
            "\n",
            "[%] Downloading Image #9 from https://www.hdwallpapers.in/download/vaporwave_lamborghini_car_digital_art_4k_hd-1600x900.jpg\n",
            "[%] File Downloaded !\n",
            "\n",
            "[%] Downloading Image #10 from https://www.hdwallpapers.in/download/ford_f450_harley_davidson_takuache_truck_hd_cars-1600x900.jpg\n",
            "[%] File Downloaded !\n",
            "\n",
            "\n",
            "\n",
            "[!!]Indexing page: 2\n",
            "\n",
            "[%] Indexed 11 Images on Page 2.\n",
            "\n",
            "===============================================\n",
            "\n",
            "[%] Downloading Image #11 from https://www.hdwallpapers.in/download/2021_lamborghini_urus_graphite_capsule_4k_5k_hd_cars-1920x1080.jpg\n",
            "[%] File Downloaded !\n",
            "\n",
            "[%] Downloading Image #12 from https://www.hdcarwallpapers.com/download/lamborghini_urus_2018_4k_8-1366x768.jpg\n",
            "[%] File Downloaded !\n",
            "\n",
            "[%] Downloading Image #13 from https://www.hdwallpapers.in/download/lamborghini_huracan_evo_2019_4k_3-1920x1080.jpg\n",
            "[%] File Downloaded !\n",
            "\n",
            "[%] Downloading Image #14 from https://4kwallpapers.com/images/wallpapers/lamborghini-huracan-sterrato-off-road-racing-5k-1440x2560-182.jpeg\n",
            "[%] File Downloaded !\n",
            "\n",
            "[%] Downloading Image #15 from https://4kwallpapers.com/images/wallpapers/lamborghini-urus-graphite-capsule-2021-dark-background-1080x2400-2753.jpg\n",
            "[%] File Downloaded !\n",
            "\n",
            "[%] Downloading Image #16 from https://www.carpixel.net/w/a9d5721aa3cf5dc30ef19989956f9d01/lamborghini-sian-fkp-37-car-wallpaper-94961.jpg\n",
            "[%] File Downloaded !\n",
            "\n",
            "[%] Downloading Image #17 from https://www.gratistodo.com/wp-content/uploads/2017/01/Lamborghini-Wallpapers-1920x1080p-4.jpg\n",
            "[%] File Downloaded !\n",
            "\n",
            "[%] Downloading Image #18 from https://www.carpixel.net/w/002ed47d8cdf13de4e54e098e6c20ea6/toyota-c-hr-hybrid-car-wallpaper-50796.jpg\n",
            "[%] File Downloaded !\n",
            "\n",
            "[%] Downloading Image #19 from http://thewowstyle.com/wp-content/uploads/2014/10/Camaro.jpg\n",
            "[%] File Downloaded !\n",
            "\n",
            "[%] Downloading Image #20 from https://gifmaniacos.es/wp-content/uploads/2016/06/gifs-increibles-gifmaniacos.es-3.gif\n",
            "[%] File Downloaded !\n",
            "\n",
            "[%] Downloading Image #21 from https://www.bing.com/th/id/OGC.20b5b7e13dc0514282661f9571ea96b1?pid=1.7&amp;rurl=https%3a%2f%2fgifmaniacos.es%2fwp-content%2fuploads%2f2016%2f06%2fgifs-increibles-gifmaniacos.es-3.gif&amp;ehk=TI8%2bLLXj1U%2fm8Y69B3t66BxG1n8jT%2fYNKQfullV46Z4%3d\n",
            "[!] Issue getting: https://www.bing.com/th/id/OGC.20b5b7e13dc0514282661f9571ea96b1?pid=1.7&amp;rurl=https%3a%2f%2fgifmaniacos.es%2fwp-content%2fuploads%2f2016%2f06%2fgifs-increibles-gifmaniacos.es-3.gif&amp;ehk=TI8%2bLLXj1U%2fm8Y69B3t66BxG1n8jT%2fYNKQfullV46Z4%3d\n",
            "[!] Error:: HTTP Error 404: Not Found\n",
            "\n",
            "\n",
            "[!!]Indexing page: 3\n",
            "\n",
            "[%] Indexed 10 Images on Page 3.\n",
            "\n",
            "===============================================\n",
            "\n",
            "[%] Downloading Image #21 from https://www.hdcarwallpapers.com/download/lamborghini_urus_2018_4k_8-1366x768.jpg\n",
            "[%] File Downloaded !\n",
            "\n",
            "[%] Downloading Image #22 from https://www.hdwallpapers.in/download/lamborghini_huracan_evo_2019_4k_3-1920x1080.jpg\n",
            "[%] File Downloaded !\n",
            "\n",
            "[%] Downloading Image #23 from https://4kwallpapers.com/images/wallpapers/lamborghini-huracan-sterrato-off-road-racing-5k-1440x2560-182.jpeg\n",
            "[%] File Downloaded !\n",
            "\n",
            "[%] Downloading Image #24 from https://4kwallpapers.com/images/wallpapers/lamborghini-urus-graphite-capsule-2021-dark-background-1080x2400-2753.jpg\n",
            "[%] File Downloaded !\n",
            "\n",
            "[%] Downloading Image #25 from https://www.carpixel.net/w/a9d5721aa3cf5dc30ef19989956f9d01/lamborghini-sian-fkp-37-car-wallpaper-94961.jpg\n",
            "[%] File Downloaded !\n",
            "\n",
            "[%] Downloading Image #26 from https://www.gratistodo.com/wp-content/uploads/2017/01/Lamborghini-Wallpapers-1920x1080p-4.jpg\n",
            "[%] File Downloaded !\n",
            "\n",
            "[%] Downloading Image #27 from https://www.carpixel.net/w/002ed47d8cdf13de4e54e098e6c20ea6/toyota-c-hr-hybrid-car-wallpaper-50796.jpg\n",
            "[%] File Downloaded !\n",
            "\n",
            "[%] Downloading Image #28 from http://thewowstyle.com/wp-content/uploads/2014/10/Camaro.jpg\n",
            "[%] File Downloaded !\n",
            "\n",
            "[%] Downloading Image #29 from https://gifmaniacos.es/wp-content/uploads/2016/06/gifs-increibles-gifmaniacos.es-3.gif\n",
            "[%] File Downloaded !\n",
            "\n",
            "[%] Downloading Image #30 from https://www.bing.com/th/id/OGC.20b5b7e13dc0514282661f9571ea96b1?pid=1.7&amp;rurl=https%3a%2f%2fgifmaniacos.es%2fwp-content%2fuploads%2f2016%2f06%2fgifs-increibles-gifmaniacos.es-3.gif&amp;ehk=TI8%2bLLXj1U%2fm8Y69B3t66BxG1n8jT%2fYNKQfullV46Z4%3d\n",
            "[!] Issue getting: https://www.bing.com/th/id/OGC.20b5b7e13dc0514282661f9571ea96b1?pid=1.7&amp;rurl=https%3a%2f%2fgifmaniacos.es%2fwp-content%2fuploads%2f2016%2f06%2fgifs-increibles-gifmaniacos.es-3.gif&amp;ehk=TI8%2bLLXj1U%2fm8Y69B3t66BxG1n8jT%2fYNKQfullV46Z4%3d\n",
            "[!] Error:: HTTP Error 404: Not Found\n",
            "\n",
            "\n",
            "[!!]Indexing page: 4\n",
            "\n",
            "[%] Indexed 9 Images on Page 4.\n",
            "\n",
            "===============================================\n",
            "\n",
            "[%] Downloading Image #30 from https://www.hdwallpapers.in/download/lamborghini_huracan_evo_2019_4k_3-1920x1080.jpg\n",
            "[%] File Downloaded !\n",
            "\n",
            "\n",
            "\n",
            "[%] Done. Downloaded 30 images.\n",
            "\n",
            "===============================================\n",
            "\n",
            "time: 34.6 s (started: 2021-05-23 15:18:12 +00:00)\n"
          ],
          "name": "stdout"
        }
      ]
    },
    {
      "cell_type": "code",
      "metadata": {
        "id": "vZrUDOn8Rcbh",
        "colab": {
          "base_uri": "https://localhost:8080/"
        },
        "outputId": "060cea51-1269-43d3-f229-cb50c093574d"
      },
      "source": [
        "downloader.download(\"animal statues\",limit=30,output_dir='photo',adult_filter_off=True)"
      ],
      "execution_count": null,
      "outputs": [
        {
          "output_type": "stream",
          "text": [
            "\n",
            "\n",
            "[!!]Indexing page: 1\n",
            "\n",
            "[%] Indexed 10 Images on Page 1.\n",
            "\n",
            "===============================================\n",
            "\n",
            "[%] Downloading Image #1 from https://mondusdistinction.com/wp-content/uploads/2017/03/FrogSolarJarStatue.jpg\n",
            "[%] File Downloaded !\n",
            "\n",
            "[%] Downloading Image #2 from https://artisansofthevalley.com/ws/cs/ws_cs_bear16a_l.jpg\n",
            "[%] File Downloaded !\n",
            "\n",
            "[%] Downloading Image #3 from http://etc.usf.edu/clippix/pix/giraffe-sculpture.tif\n",
            "[%] File Downloaded !\n",
            "\n",
            "[%] Downloading Image #4 from https://anwo.com/store/media/reindeer_toy.jpg\n",
            "[%] File Downloaded !\n",
            "\n",
            "[%] Downloading Image #5 from https://artisansofthevalley.com/ws/cs/ws_cs_fox1a_l.jpg\n",
            "[%] File Downloaded !\n",
            "\n",
            "[%] Downloading Image #6 from http://cdn.trendhunterstatic.com/thumbs/glass-sculptures.jpeg\n",
            "[%] File Downloaded !\n",
            "\n",
            "[%] Downloading Image #7 from https://wallup.net/wp-content/uploads/2017/03/28/406804-Ra-Abu_Simbel-Egypt-sculpture-statue-rock-Egyptian-artwork-gods-ancient-water-river-Nile-hills-clouds-dune-sand.jpg\n",
            "[%] File Downloaded !\n",
            "\n",
            "[%] Downloading Image #8 from http://cdn.shopify.com/s/files/1/0910/2272/files/Rebecca_at_Well_Fountain_in_Petal_Bowl_RWFPB__65887.1406180537.1280.1280_large.jpg?v=1493225111\n",
            "[%] File Downloaded !\n",
            "\n",
            "[%] Downloading Image #9 from http://viola.bz/wp-content/uploads/2012/09/Colorful-bead-sculptures-Mexico-Huichol-art-22.jpg\n",
            "[%] File Downloaded !\n",
            "\n",
            "[%] Downloading Image #10 from https://thumbs.dreamstime.com/z/thai-dragon-statue-thai-temple-22603401.jpg\n",
            "[%] File Downloaded !\n",
            "\n",
            "\n",
            "\n",
            "[!!]Indexing page: 2\n",
            "\n",
            "[%] Indexed 10 Images on Page 2.\n",
            "\n",
            "===============================================\n",
            "\n",
            "[%] Downloading Image #11 from https://nooksguide.com/images/catalog/artwork/Robust Statue - real.png\n",
            "[!] Issue getting: https://nooksguide.com/images/catalog/artwork/Robust Statue - real.png\n",
            "[!] Error:: URL can't contain control characters. '/images/catalog/artwork/Robust Statue - real.png' (found at least ' ')\n",
            "[%] Downloading Image #11 from https://klyker.com/wp-content/uploads/2014/01/bizarre-wtf-statues-23.jpg\n",
            "[%] File Downloaded !\n",
            "\n",
            "[%] Downloading Image #12 from https://static1.gamerantimages.com/wordpress/wp-content/uploads/2020/06/animal-crossing-new-horizons-furniture-sets-collage.jpg\n",
            "[%] File Downloaded !\n",
            "\n",
            "[%] Downloading Image #13 from http://www.roadsideamerica.com/attract/images/co/CODENdogtags_katie.jpg\n",
            "[%] File Downloaded !\n",
            "\n",
            "[%] Downloading Image #14 from https://www.digsdigs.com/photos/animal-prints-in-home-decor-25.jpg\n",
            "[%] File Downloaded !\n",
            "\n",
            "[%] Downloading Image #15 from https://i.ytimg.com/vi/8OZ7t_q3JkU/maxresdefault.jpg\n",
            "[%] File Downloaded !\n",
            "\n",
            "[%] Downloading Image #16 from https://photos.costume-works.com/full/giraffe.jpg\n",
            "[%] File Downloaded !\n",
            "\n",
            "[%] Downloading Image #17 from https://nintendowire.com/wp-content/uploads/2020/12/DeadCells-FatalFalls-DLC.jpg\n",
            "[%] File Downloaded !\n",
            "\n",
            "[%] Downloading Image #18 from http://www.genuineafrica.com/images/Dan/African_Masks/African-Masks-Dan-Mask-32-LeftA.jpg\n",
            "[%] File Downloaded !\n",
            "\n",
            "[%] Downloading Image #19 from https://cdn6.bigcommerce.com/s-61d9ne0ffi/products/11561/images/10690/majestic-whitetail-buck-wrapped-canvas-art-1747-XL__82394.1501024544.500.750.jpg?c=2\n",
            "[%] File Downloaded !\n",
            "\n",
            "\n",
            "\n",
            "[!!]Indexing page: 3\n",
            "\n",
            "[%] Indexed 9 Images on Page 3.\n",
            "\n",
            "===============================================\n",
            "\n",
            "[%] Downloading Image #20 from https://klyker.com/wp-content/uploads/2014/01/bizarre-wtf-statues-23.jpg\n",
            "[%] File Downloaded !\n",
            "\n",
            "[%] Downloading Image #21 from https://nintendowire.com/wp-content/uploads/2020/12/DeadCells-FatalFalls-DLC.jpg\n",
            "[%] File Downloaded !\n",
            "\n",
            "[%] Downloading Image #22 from http://www.roadsideamerica.com/attract/images/co/CODENdogtags_katie.jpg\n",
            "[%] File Downloaded !\n",
            "\n",
            "[%] Downloading Image #23 from https://cdn6.bigcommerce.com/s-61d9ne0ffi/products/11561/images/10690/majestic-whitetail-buck-wrapped-canvas-art-1747-XL__82394.1501024544.500.750.jpg?c=2\n",
            "[%] File Downloaded !\n",
            "\n",
            "[%] Downloading Image #24 from https://i.ytimg.com/vi/8OZ7t_q3JkU/maxresdefault.jpg\n",
            "[%] File Downloaded !\n",
            "\n",
            "[%] Downloading Image #25 from https://www.digsdigs.com/photos/animal-prints-in-home-decor-25.jpg\n",
            "[%] File Downloaded !\n",
            "\n",
            "[%] Downloading Image #26 from http://www.genuineafrica.com/images/Dan/African_Masks/African-Masks-Dan-Mask-32-LeftA.jpg\n",
            "[%] File Downloaded !\n",
            "\n",
            "[%] Downloading Image #27 from https://photos.costume-works.com/full/giraffe.jpg\n",
            "[%] File Downloaded !\n",
            "\n",
            "[%] Downloading Image #28 from https://static1.gamerantimages.com/wordpress/wp-content/uploads/2020/06/animal-crossing-new-horizons-furniture-sets-collage.jpg\n",
            "[%] File Downloaded !\n",
            "\n",
            "\n",
            "\n",
            "[!!]Indexing page: 4\n",
            "\n",
            "[%] Indexed 8 Images on Page 4.\n",
            "\n",
            "===============================================\n",
            "\n",
            "[%] Downloading Image #29 from http://www.roadsideamerica.com/attract/images/co/CODENdogtags_katie.jpg\n",
            "[%] File Downloaded !\n",
            "\n",
            "[%] Downloading Image #30 from https://i.ytimg.com/vi/8OZ7t_q3JkU/maxresdefault.jpg\n",
            "[%] File Downloaded !\n",
            "\n",
            "\n",
            "\n",
            "[%] Done. Downloaded 30 images.\n",
            "\n",
            "===============================================\n",
            "\n",
            "time: 18.3 s (started: 2021-05-23 15:18:46 +00:00)\n"
          ],
          "name": "stdout"
        }
      ]
    },
    {
      "cell_type": "code",
      "metadata": {
        "id": "A4ptGrdrRjDE",
        "colab": {
          "base_uri": "https://localhost:8080/"
        },
        "outputId": "51c7de00-9ebf-42b4-966a-6935a099f13b"
      },
      "source": [
        "import os\n",
        "import matplotlib.pyplot as plt\n",
        "import numpy as np\n",
        "from skimage.io import imread\n",
        "from skimage.transform import resize \n",
        "\n",
        "target = []\n",
        "images = []\n",
        "flat_data = []\n",
        "\n",
        "DATADIR = '/content/photo'\n",
        "CATEGORIES = ['prettiest supermodel','car','lamborghini','animal statues']\n",
        "\n",
        "for category in CATEGORIES:\n",
        "  class_num = CATEGORIES.index(category) #label encoding the values\n",
        "  path = os.path.join(DATADIR,category)\n",
        "  print(path)\n",
        "  for img in os.listdir(path):\n",
        "    img_array = imread(os.path.join(path,img))\n",
        "    #print(img_array)\n",
        "    #print(img_array.shape)\n",
        "    #plt.imshow(img_array)\n",
        "    img_resized = resize(img_array,(150,150,3))\n",
        "    flat_data.append(img_resized.flatten())\n",
        "    images.append(img_resized)\n",
        "    target.append(class_num)\n",
        "    \n",
        "\n",
        "flat_data = np.array(flat_data)\n",
        "target = np.array(target)\n",
        "images = np.array(images)"
      ],
      "execution_count": 198,
      "outputs": [
        {
          "output_type": "stream",
          "text": [
            "/content/photo/prettiest supermodel\n",
            "/content/photo/car\n",
            "/content/photo/lamborghini\n",
            "/content/photo/animal statues\n",
            "time: 32.1 s (started: 2021-05-23 16:00:30 +00:00)\n"
          ],
          "name": "stdout"
        }
      ]
    },
    {
      "cell_type": "code",
      "metadata": {
        "id": "5LEmLQAzSjus",
        "colab": {
          "base_uri": "https://localhost:8080/"
        },
        "outputId": "8f054511-b654-4afd-9fdb-3e687b0ba397"
      },
      "source": [
        "print(img_array)"
      ],
      "execution_count": 199,
      "outputs": [
        {
          "output_type": "stream",
          "text": [
            "[[[255 255 255]\n",
            "  [255 255 255]\n",
            "  [255 255 255]\n",
            "  ...\n",
            "  [255 255 255]\n",
            "  [255 255 255]\n",
            "  [255 255 255]]\n",
            "\n",
            " [[255 255 255]\n",
            "  [255 255 255]\n",
            "  [255 255 255]\n",
            "  ...\n",
            "  [255 255 255]\n",
            "  [255 255 255]\n",
            "  [255 255 255]]\n",
            "\n",
            " [[255 255 255]\n",
            "  [255 255 255]\n",
            "  [255 255 255]\n",
            "  ...\n",
            "  [255 255 255]\n",
            "  [255 255 255]\n",
            "  [255 255 255]]\n",
            "\n",
            " ...\n",
            "\n",
            " [[255 255 255]\n",
            "  [255 255 255]\n",
            "  [255 255 255]\n",
            "  ...\n",
            "  [255 255 255]\n",
            "  [255 255 255]\n",
            "  [255 255 255]]\n",
            "\n",
            " [[255 255 255]\n",
            "  [255 255 255]\n",
            "  [255 255 255]\n",
            "  ...\n",
            "  [255 255 255]\n",
            "  [255 255 255]\n",
            "  [255 255 255]]\n",
            "\n",
            " [[255 255 255]\n",
            "  [255 255 255]\n",
            "  [255 255 255]\n",
            "  ...\n",
            "  [255 255 255]\n",
            "  [255 255 255]\n",
            "  [255 255 255]]]\n",
            "time: 2.25 ms (started: 2021-05-23 16:01:04 +00:00)\n"
          ],
          "name": "stdout"
        }
      ]
    },
    {
      "cell_type": "code",
      "metadata": {
        "id": "_lMWnuZwSqfg",
        "colab": {
          "base_uri": "https://localhost:8080/"
        },
        "outputId": "27e7dae2-03d9-40ba-8d9f-8adb0d0947e5"
      },
      "source": [
        "print(img_array.shape)"
      ],
      "execution_count": 200,
      "outputs": [
        {
          "output_type": "stream",
          "text": [
            "(360, 266, 3)\n",
            "time: 1.41 ms (started: 2021-05-23 16:01:07 +00:00)\n"
          ],
          "name": "stdout"
        }
      ]
    },
    {
      "cell_type": "code",
      "metadata": {
        "id": "N5RGGyMOStu4",
        "colab": {
          "base_uri": "https://localhost:8080/"
        },
        "outputId": "f362e1c0-851d-4f10-bae7-df282f897d8b"
      },
      "source": [
        "flat_data[1]"
      ],
      "execution_count": 201,
      "outputs": [
        {
          "output_type": "execute_result",
          "data": {
            "text/plain": [
              "array([0.45882353, 0.42352941, 0.49803922, ..., 1.        , 1.        ,\n",
              "       1.        ])"
            ]
          },
          "metadata": {
            "tags": []
          },
          "execution_count": 201
        },
        {
          "output_type": "stream",
          "text": [
            "time: 5.14 ms (started: 2021-05-23 16:01:09 +00:00)\n"
          ],
          "name": "stdout"
        }
      ]
    },
    {
      "cell_type": "code",
      "metadata": {
        "id": "8w2CVHGsSvx3",
        "colab": {
          "base_uri": "https://localhost:8080/"
        },
        "outputId": "5f318228-4079-47a3-b708-15196605a559"
      },
      "source": [
        "len(flat_data[1])"
      ],
      "execution_count": 202,
      "outputs": [
        {
          "output_type": "execute_result",
          "data": {
            "text/plain": [
              "67500"
            ]
          },
          "metadata": {
            "tags": []
          },
          "execution_count": 202
        },
        {
          "output_type": "stream",
          "text": [
            "time: 5.33 ms (started: 2021-05-23 16:01:11 +00:00)\n"
          ],
          "name": "stdout"
        }
      ]
    },
    {
      "cell_type": "code",
      "metadata": {
        "id": "2WWH8_M5Syyp",
        "colab": {
          "base_uri": "https://localhost:8080/"
        },
        "outputId": "8378180b-9bb3-4d49-e4f0-d97b78f5e2b1"
      },
      "source": [
        "target"
      ],
      "execution_count": 203,
      "outputs": [
        {
          "output_type": "execute_result",
          "data": {
            "text/plain": [
              "array([0, 0, 0, 0, 0, 0, 0, 0, 0, 0, 0, 0, 0, 0, 0, 0, 0, 0, 0, 0, 0, 0,\n",
              "       0, 0, 0, 0, 0, 0, 0, 0, 0, 1, 1, 1, 1, 1, 1, 1, 1, 1, 1, 1, 1, 1,\n",
              "       1, 1, 1, 1, 1, 1, 1, 1, 1, 1, 1, 1, 1, 1, 1, 1, 1, 2, 2, 2, 2, 2,\n",
              "       2, 2, 2, 2, 2, 2, 2, 2, 2, 2, 2, 2, 2, 2, 2, 2, 2, 2, 2, 2, 2, 2,\n",
              "       2, 2, 2, 3, 3, 3, 3, 3, 3, 3, 3, 3, 3, 3, 3, 3, 3, 3, 3, 3, 3, 3,\n",
              "       3, 3, 3, 3, 3, 3, 3, 3, 3, 3, 3])"
            ]
          },
          "metadata": {
            "tags": []
          },
          "execution_count": 203
        },
        {
          "output_type": "stream",
          "text": [
            "time: 7.3 ms (started: 2021-05-23 16:01:12 +00:00)\n"
          ],
          "name": "stdout"
        }
      ]
    },
    {
      "cell_type": "code",
      "metadata": {
        "id": "XXdTBEnRS0xJ",
        "colab": {
          "base_uri": "https://localhost:8080/",
          "height": 299
        },
        "outputId": "16c0287f-1f69-487e-820b-462dc801f8c0"
      },
      "source": [
        "unique,count = np.unique(target,return_counts=True)\n",
        "plt.bar(CATEGORIES,count)"
      ],
      "execution_count": 204,
      "outputs": [
        {
          "output_type": "execute_result",
          "data": {
            "text/plain": [
              "<BarContainer object of 4 artists>"
            ]
          },
          "metadata": {
            "tags": []
          },
          "execution_count": 204
        },
        {
          "output_type": "display_data",
          "data": {
            "image/png": "[encoded data removed]",
            "text/plain": [
              "<Figure size 432x288 with 1 Axes>"
            ]
          },
          "metadata": {
            "tags": [],
            "needs_background": "light"
          }
        },
        {
          "output_type": "stream",
          "text": [
            "time: 142 ms (started: 2021-05-23 16:01:16 +00:00)\n"
          ],
          "name": "stdout"
        }
      ]
    },
    {
      "cell_type": "code",
      "metadata": {
        "id": "QfUoENJzS26T",
        "colab": {
          "base_uri": "https://localhost:8080/"
        },
        "outputId": "7ce9edd2-2964-4c42-b390-65a92837c39f"
      },
      "source": [
        "from sklearn.model_selection import train_test_split\n",
        "x_train,x_test,y_train,y_test = train_test_split(flat_data,target,test_size=0.3,random_state=109)"
      ],
      "execution_count": 205,
      "outputs": [
        {
          "output_type": "stream",
          "text": [
            "time: 34.9 ms (started: 2021-05-23 16:01:20 +00:00)\n"
          ],
          "name": "stdout"
        }
      ]
    },
    {
      "cell_type": "code",
      "metadata": {
        "colab": {
          "base_uri": "https://localhost:8080/"
        },
        "id": "IA2D2NbBb6WZ",
        "outputId": "c26f82f2-8b43-45ab-d1cb-1d74d5830f7b"
      },
      "source": [
        "from sklearn.model_selection import GridSearchCV\n",
        "from sklearn import svm\n",
        "param_grid = [\n",
        "              {'C':[1,10,100,1000],\"kernel\":['linear']},\n",
        "              {'C':[1,10,100,1000],'gamma':[0.001,0.0001],'kernel':['rbf']} \n",
        "]\n",
        "svc = svm.SVC(probability=True)\n",
        "clf = GridSearchCV(svc,param_grid)\n",
        "clf.fit(x_train,y_train)"
      ],
      "execution_count": null,
      "outputs": [
        {
          "output_type": "execute_result",
          "data": {
            "text/plain": [
              "GridSearchCV(cv=None, error_score=nan,\n",
              "             estimator=SVC(C=1.0, break_ties=False, cache_size=200,\n",
              "                           class_weight=None, coef0=0.0,\n",
              "                           decision_function_shape='ovr', degree=3,\n",
              "                           gamma='scale', kernel='rbf', max_iter=-1,\n",
              "                           probability=True, random_state=None, shrinking=True,\n",
              "                           tol=0.001, verbose=False),\n",
              "             iid='deprecated', n_jobs=None,\n",
              "             param_grid=[{'C': [1, 10, 100, 1000], 'kernel': ['linear']},\n",
              "                         {'C': [1, 10, 100, 1000], 'gamma': [0.001, 0.0001],\n",
              "                          'kernel': ['rbf']}],\n",
              "             pre_dispatch='2*n_jobs', refit=True, return_train_score=False,\n",
              "             scoring=None, verbose=0)"
            ]
          },
          "metadata": {
            "tags": []
          },
          "execution_count": 158
        },
        {
          "output_type": "stream",
          "text": [
            "time: 5min 42s (started: 2021-05-23 15:39:13 +00:00)\n"
          ],
          "name": "stdout"
        }
      ]
    },
    {
      "cell_type": "code",
      "metadata": {
        "id": "kNlvYSTIS8ut",
        "colab": {
          "base_uri": "https://localhost:8080/"
        },
        "outputId": "e774a343-a57a-4dc4-a6b3-3b17deed9a83"
      },
      "source": [
        "y_pred = clf.predict(x_test)\n",
        "y_pred"
      ],
      "execution_count": 206,
      "outputs": [
        {
          "output_type": "execute_result",
          "data": {
            "text/plain": [
              "array([0, 0, 0, 3, 0, 4, 3, 3, 3, 0, 3, 2, 4, 1, 3, 2, 0, 4, 0, 4, 0, 4,\n",
              "       1, 3, 1, 1, 2, 4, 0, 4, 3, 3, 4, 1, 3, 3, 4])"
            ]
          },
          "metadata": {
            "tags": []
          },
          "execution_count": 206
        },
        {
          "output_type": "stream",
          "text": [
            "time: 358 ms (started: 2021-05-23 16:01:23 +00:00)\n"
          ],
          "name": "stdout"
        }
      ]
    },
    {
      "cell_type": "code",
      "metadata": {
        "id": "QglfroDsTCZg",
        "colab": {
          "base_uri": "https://localhost:8080/"
        },
        "outputId": "7781a260-43fd-46e9-cbbc-d16c6544c281"
      },
      "source": [
        "y_test"
      ],
      "execution_count": 207,
      "outputs": [
        {
          "output_type": "execute_result",
          "data": {
            "text/plain": [
              "array([0, 0, 0, 2, 1, 3, 2, 2, 2, 0, 2, 1, 3, 1, 2, 1, 0, 3, 0, 3, 0, 3,\n",
              "       1, 2, 1, 1, 1, 3, 0, 3, 2, 2, 3, 1, 2, 2, 3])"
            ]
          },
          "metadata": {
            "tags": []
          },
          "execution_count": 207
        },
        {
          "output_type": "stream",
          "text": [
            "time: 6.85 ms (started: 2021-05-23 16:01:30 +00:00)\n"
          ],
          "name": "stdout"
        }
      ]
    },
    {
      "cell_type": "code",
      "metadata": {
        "id": "ZjuHOYXaTENj",
        "colab": {
          "base_uri": "https://localhost:8080/"
        },
        "outputId": "3bcd304f-06a8-40a1-ae0e-de2eac19d0b4"
      },
      "source": [
        "from sklearn.metrics import accuracy_score,confusion_matrix"
      ],
      "execution_count": 208,
      "outputs": [
        {
          "output_type": "stream",
          "text": [
            "time: 3.81 ms (started: 2021-05-23 16:01:32 +00:00)\n"
          ],
          "name": "stdout"
        }
      ]
    },
    {
      "cell_type": "code",
      "metadata": {
        "id": "1NYvyCfYTGWv",
        "colab": {
          "base_uri": "https://localhost:8080/"
        },
        "outputId": "2b75e20a-a95f-43ec-efbe-acb5477c0f96"
      },
      "source": [
        "accuracy_score(y_pred,y_test)"
      ],
      "execution_count": 209,
      "outputs": [
        {
          "output_type": "execute_result",
          "data": {
            "text/plain": [
              "0.35135135135135137"
            ]
          },
          "metadata": {
            "tags": []
          },
          "execution_count": 209
        },
        {
          "output_type": "stream",
          "text": [
            "time: 6.75 ms (started: 2021-05-23 16:01:35 +00:00)\n"
          ],
          "name": "stdout"
        }
      ]
    },
    {
      "cell_type": "code",
      "metadata": {
        "id": "GX6iXCR8TIgr",
        "colab": {
          "base_uri": "https://localhost:8080/"
        },
        "outputId": "cfa9023e-3a93-4a04-a442-1b6a5a25e69c"
      },
      "source": [
        "confusion_matrix(y_pred,y_test)"
      ],
      "execution_count": 210,
      "outputs": [
        {
          "output_type": "execute_result",
          "data": {
            "text/plain": [
              "array([[ 8,  1,  0,  0,  0],\n",
              "       [ 0,  5,  0,  0,  0],\n",
              "       [ 0,  3,  0,  0,  0],\n",
              "       [ 0,  0, 11,  0,  0],\n",
              "       [ 0,  0,  0,  9,  0]])"
            ]
          },
          "metadata": {
            "tags": []
          },
          "execution_count": 210
        },
        {
          "output_type": "stream",
          "text": [
            "time: 8.49 ms (started: 2021-05-23 16:01:36 +00:00)\n"
          ],
          "name": "stdout"
        }
      ]
    },
    {
      "cell_type": "code",
      "metadata": {
        "id": "uhP7SB7pTKkM",
        "colab": {
          "base_uri": "https://localhost:8080/"
        },
        "outputId": "025e5aea-af60-4b9a-e98d-e8b2625d4bba"
      },
      "source": [
        "import pickle\n",
        "pickle.dump(clf,open('img_model.p','wb'))"
      ],
      "execution_count": 211,
      "outputs": [
        {
          "output_type": "stream",
          "text": [
            "time: 62.3 ms (started: 2021-05-23 16:01:39 +00:00)\n"
          ],
          "name": "stdout"
        }
      ]
    },
    {
      "cell_type": "code",
      "metadata": {
        "id": "tBWb93dhTMtB",
        "colab": {
          "base_uri": "https://localhost:8080/"
        },
        "outputId": "14d2fdc7-9403-432d-aba1-66c176200409"
      },
      "source": [
        "model = pickle.load(open('img_model.p','rb'))"
      ],
      "execution_count": 212,
      "outputs": [
        {
          "output_type": "stream",
          "text": [
            "time: 34.2 ms (started: 2021-05-23 16:01:42 +00:00)\n"
          ],
          "name": "stdout"
        }
      ]
    },
    {
      "cell_type": "code",
      "metadata": {
        "id": "YwtDI4UdTOpt",
        "colab": {
          "base_uri": "https://localhost:8080/",
          "height": 337
        },
        "outputId": "ca5e53ae-ac9b-49c9-fdd5-ea0cd9ef8b2a"
      },
      "source": [
        "flat_data = []\n",
        "url = input(\"Enter your URL\")\n",
        "img = imread(url)\n",
        "img_resized = resize(img,(150,150,3))\n",
        "flat_data.append(img_resized.flatten())\n",
        "flat_data = np.array(flat_data)\n",
        "print(img.shape)\n",
        "plt.imshow(img_resized)\n",
        "y_out = model.predict(flat_data)\n",
        "y_out = CATEGORIES[y_out[0]]\n",
        "print(f'PREDICTED OUTPUT: {y_out}')"
      ],
      "execution_count": 213,
      "outputs": [
        {
          "output_type": "stream",
          "text": [
            "Enter your URLhttps://upload.wikimedia.org/wikipedia/commons/7/7f/Paris_Motor_Show_2018%2C_Paris_%281Y7A1602%29.jpg\n",
            "(3140, 4710, 3)\n",
            "PREDICTED OUTPUT: lamborghini\n"
          ],
          "name": "stdout"
        },
        {
          "output_type": "display_data",
          "data": {
            "image/png": "[encoded data removed]",
            "text/plain": [
              "<Figure size 432x288 with 1 Axes>"
            ]
          },
          "metadata": {
            "tags": [],
            "needs_background": "light"
          }
        },
        {
          "output_type": "stream",
          "text": [
            "time: 2min 1s (started: 2021-05-23 16:01:44 +00:00)\n"
          ],
          "name": "stdout"
        }
      ]
    },
    {
      "cell_type": "code",
      "metadata": {
        "id": "IEaJJ0BFTTB8",
        "colab": {
          "base_uri": "https://localhost:8080/"
        },
        "outputId": "dcf7ed24-922a-4cf5-85dc-308e982dec1a"
      },
      "source": [
        "!pip install streamlit\n",
        "\n",
        "!pip install pyngrok\n",
        "from pyngrok import ngrok"
      ],
      "execution_count": 214,
      "outputs": [
        {
          "output_type": "stream",
          "text": [
            "Requirement already satisfied: streamlit in /usr/local/lib/python3.7/dist-packages (0.82.0)\n",
            "Requirement already satisfied: altair>=3.2.0 in /usr/local/lib/python3.7/dist-packages (from streamlit) (4.1.0)\n",
            "Requirement already satisfied: toml in /usr/local/lib/python3.7/dist-packages (from streamlit) (0.10.2)\n",
            "Requirement already satisfied: tzlocal in /usr/local/lib/python3.7/dist-packages (from streamlit) (1.5.1)\n",
            "Requirement already satisfied: pillow>=6.2.0 in /usr/local/lib/python3.7/dist-packages (from streamlit) (8.2.0)\n",
            "Requirement already satisfied: blinker in /usr/local/lib/python3.7/dist-packages (from streamlit) (1.4)\n",
            "Requirement already satisfied: cachetools>=4.0 in /usr/local/lib/python3.7/dist-packages (from streamlit) (4.2.2)\n",
            "Requirement already satisfied: pandas>=0.21.0 in /usr/local/lib/python3.7/dist-packages (from streamlit) (1.1.5)\n",
            "Requirement already satisfied: tornado>=5.0 in /usr/local/lib/python3.7/dist-packages (from streamlit) (5.1.1)\n",
            "Requirement already satisfied: pyarrow; python_version < \"3.9\" in /usr/local/lib/python3.7/dist-packages (from streamlit) (3.0.0)\n",
            "Requirement already satisfied: gitpython in /usr/local/lib/python3.7/dist-packages (from streamlit) (3.1.17)\n",
            "Requirement already satisfied: pydeck>=0.1.dev5 in /usr/local/lib/python3.7/dist-packages (from streamlit) (0.6.2)\n",
            "Requirement already satisfied: click<8.0,>=7.0 in /usr/local/lib/python3.7/dist-packages (from streamlit) (7.1.2)\n",
            "Requirement already satisfied: base58 in /usr/local/lib/python3.7/dist-packages (from streamlit) (2.1.0)\n",
            "Requirement already satisfied: astor in /usr/local/lib/python3.7/dist-packages (from streamlit) (0.8.1)\n",
            "Requirement already satisfied: packaging in /usr/local/lib/python3.7/dist-packages (from streamlit) (20.9)\n",
            "Requirement already satisfied: numpy in /usr/local/lib/python3.7/dist-packages (from streamlit) (1.19.5)\n",
            "Requirement already satisfied: protobuf!=3.11,>=3.6.0 in /usr/local/lib/python3.7/dist-packages (from streamlit) (3.12.4)\n",
            "Requirement already satisfied: python-dateutil in /usr/local/lib/python3.7/dist-packages (from streamlit) (2.8.1)\n",
            "Requirement already satisfied: watchdog; platform_system != \"Darwin\" in /usr/local/lib/python3.7/dist-packages (from streamlit) (2.1.2)\n",
            "Requirement already satisfied: requests in /usr/local/lib/python3.7/dist-packages (from streamlit) (2.23.0)\n",
            "Requirement already satisfied: validators in /usr/local/lib/python3.7/dist-packages (from streamlit) (0.18.2)\n",
            "Requirement already satisfied: jinja2 in /usr/local/lib/python3.7/dist-packages (from altair>=3.2.0->streamlit) (2.11.3)\n",
            "Requirement already satisfied: entrypoints in /usr/local/lib/python3.7/dist-packages (from altair>=3.2.0->streamlit) (0.3)\n",
            "Requirement already satisfied: jsonschema in /usr/local/lib/python3.7/dist-packages (from altair>=3.2.0->streamlit) (2.6.0)\n",
            "Requirement already satisfied: toolz in /usr/local/lib/python3.7/dist-packages (from altair>=3.2.0->streamlit) (0.11.1)\n",
            "Requirement already satisfied: pytz in /usr/local/lib/python3.7/dist-packages (from tzlocal->streamlit) (2018.9)\n",
            "Requirement already satisfied: typing-extensions>=3.7.4.0; python_version < \"3.8\" in /usr/local/lib/python3.7/dist-packages (from gitpython->streamlit) (3.7.4.3)\n",
            "Requirement already satisfied: gitdb<5,>=4.0.1 in /usr/local/lib/python3.7/dist-packages (from gitpython->streamlit) (4.0.7)\n",
            "Requirement already satisfied: ipykernel>=5.1.2; python_version >= \"3.4\" in /usr/local/lib/python3.7/dist-packages (from pydeck>=0.1.dev5->streamlit) (5.5.5)\n",
            "Requirement already satisfied: traitlets>=4.3.2 in /usr/local/lib/python3.7/dist-packages (from pydeck>=0.1.dev5->streamlit) (5.0.5)\n",
            "Requirement already satisfied: ipywidgets>=7.0.0 in /usr/local/lib/python3.7/dist-packages (from pydeck>=0.1.dev5->streamlit) (7.6.3)\n",
            "Requirement already satisfied: pyparsing>=2.0.2 in /usr/local/lib/python3.7/dist-packages (from packaging->streamlit) (2.4.7)\n",
            "Requirement already satisfied: six>=1.9 in /usr/local/lib/python3.7/dist-packages (from protobuf!=3.11,>=3.6.0->streamlit) (1.15.0)\n",
            "Requirement already satisfied: setuptools in /usr/local/lib/python3.7/dist-packages (from protobuf!=3.11,>=3.6.0->streamlit) (56.1.0)\n",
            "Requirement already satisfied: idna<3,>=2.5 in /usr/local/lib/python3.7/dist-packages (from requests->streamlit) (2.10)\n",
            "Requirement already satisfied: chardet<4,>=3.0.2 in /usr/local/lib/python3.7/dist-packages (from requests->streamlit) (3.0.4)\n",
            "Requirement already satisfied: urllib3!=1.25.0,!=1.25.1,<1.26,>=1.21.1 in /usr/local/lib/python3.7/dist-packages (from requests->streamlit) (1.24.3)\n",
            "Requirement already satisfied: certifi>=2017.4.17 in /usr/local/lib/python3.7/dist-packages (from requests->streamlit) (2020.12.5)\n",
            "Requirement already satisfied: decorator>=3.4.0 in /usr/local/lib/python3.7/dist-packages (from validators->streamlit) (4.4.2)\n",
            "Requirement already satisfied: MarkupSafe>=0.23 in /usr/local/lib/python3.7/dist-packages (from jinja2->altair>=3.2.0->streamlit) (2.0.0)\n",
            "Requirement already satisfied: smmap<5,>=3.0.1 in /usr/local/lib/python3.7/dist-packages (from gitdb<5,>=4.0.1->gitpython->streamlit) (4.0.0)\n",
            "Requirement already satisfied: ipython>=5.0.0 in /usr/local/lib/python3.7/dist-packages (from ipykernel>=5.1.2; python_version >= \"3.4\"->pydeck>=0.1.dev5->streamlit) (5.5.0)\n",
            "Requirement already satisfied: jupyter-client in /usr/local/lib/python3.7/dist-packages (from ipykernel>=5.1.2; python_version >= \"3.4\"->pydeck>=0.1.dev5->streamlit) (5.3.5)\n",
            "Requirement already satisfied: ipython-genutils in /usr/local/lib/python3.7/dist-packages (from traitlets>=4.3.2->pydeck>=0.1.dev5->streamlit) (0.2.0)\n",
            "Requirement already satisfied: widgetsnbextension~=3.5.0 in /usr/local/lib/python3.7/dist-packages (from ipywidgets>=7.0.0->pydeck>=0.1.dev5->streamlit) (3.5.1)\n",
            "Requirement already satisfied: jupyterlab-widgets>=1.0.0; python_version >= \"3.6\" in /usr/local/lib/python3.7/dist-packages (from ipywidgets>=7.0.0->pydeck>=0.1.dev5->streamlit) (1.0.0)\n",
            "Requirement already satisfied: nbformat>=4.2.0 in /usr/local/lib/python3.7/dist-packages (from ipywidgets>=7.0.0->pydeck>=0.1.dev5->streamlit) (5.1.3)\n",
            "Requirement already satisfied: pexpect; sys_platform != \"win32\" in /usr/local/lib/python3.7/dist-packages (from ipython>=5.0.0->ipykernel>=5.1.2; python_version >= \"3.4\"->pydeck>=0.1.dev5->streamlit) (4.8.0)\n",
            "Requirement already satisfied: pickleshare in /usr/local/lib/python3.7/dist-packages (from ipython>=5.0.0->ipykernel>=5.1.2; python_version >= \"3.4\"->pydeck>=0.1.dev5->streamlit) (0.7.5)\n",
            "Requirement already satisfied: simplegeneric>0.8 in /usr/local/lib/python3.7/dist-packages (from ipython>=5.0.0->ipykernel>=5.1.2; python_version >= \"3.4\"->pydeck>=0.1.dev5->streamlit) (0.8.1)\n",
            "Requirement already satisfied: prompt-toolkit<2.0.0,>=1.0.4 in /usr/local/lib/python3.7/dist-packages (from ipython>=5.0.0->ipykernel>=5.1.2; python_version >= \"3.4\"->pydeck>=0.1.dev5->streamlit) (1.0.18)\n",
            "Requirement already satisfied: pygments in /usr/local/lib/python3.7/dist-packages (from ipython>=5.0.0->ipykernel>=5.1.2; python_version >= \"3.4\"->pydeck>=0.1.dev5->streamlit) (2.6.1)\n",
            "Requirement already satisfied: jupyter-core>=4.6.0 in /usr/local/lib/python3.7/dist-packages (from jupyter-client->ipykernel>=5.1.2; python_version >= \"3.4\"->pydeck>=0.1.dev5->streamlit) (4.7.1)\n",
            "Requirement already satisfied: pyzmq>=13 in /usr/local/lib/python3.7/dist-packages (from jupyter-client->ipykernel>=5.1.2; python_version >= \"3.4\"->pydeck>=0.1.dev5->streamlit) (22.0.3)\n",
            "Requirement already satisfied: notebook>=4.4.1 in /usr/local/lib/python3.7/dist-packages (from widgetsnbextension~=3.5.0->ipywidgets>=7.0.0->pydeck>=0.1.dev5->streamlit) (5.3.1)\n",
            "Requirement already satisfied: ptyprocess>=0.5 in /usr/local/lib/python3.7/dist-packages (from pexpect; sys_platform != \"win32\"->ipython>=5.0.0->ipykernel>=5.1.2; python_version >= \"3.4\"->pydeck>=0.1.dev5->streamlit) (0.7.0)\n",
            "Requirement already satisfied: wcwidth in /usr/local/lib/python3.7/dist-packages (from prompt-toolkit<2.0.0,>=1.0.4->ipython>=5.0.0->ipykernel>=5.1.2; python_version >= \"3.4\"->pydeck>=0.1.dev5->streamlit) (0.2.5)\n",
            "Requirement already satisfied: terminado>=0.8.1 in /usr/local/lib/python3.7/dist-packages (from notebook>=4.4.1->widgetsnbextension~=3.5.0->ipywidgets>=7.0.0->pydeck>=0.1.dev5->streamlit) (0.9.5)\n",
            "Requirement already satisfied: nbconvert in /usr/local/lib/python3.7/dist-packages (from notebook>=4.4.1->widgetsnbextension~=3.5.0->ipywidgets>=7.0.0->pydeck>=0.1.dev5->streamlit) (5.6.1)\n",
            "Requirement already satisfied: Send2Trash in /usr/local/lib/python3.7/dist-packages (from notebook>=4.4.1->widgetsnbextension~=3.5.0->ipywidgets>=7.0.0->pydeck>=0.1.dev5->streamlit) (1.5.0)\n",
            "Requirement already satisfied: mistune<2,>=0.8.1 in /usr/local/lib/python3.7/dist-packages (from nbconvert->notebook>=4.4.1->widgetsnbextension~=3.5.0->ipywidgets>=7.0.0->pydeck>=0.1.dev5->streamlit) (0.8.4)\n",
            "Requirement already satisfied: testpath in /usr/local/lib/python3.7/dist-packages (from nbconvert->notebook>=4.4.1->widgetsnbextension~=3.5.0->ipywidgets>=7.0.0->pydeck>=0.1.dev5->streamlit) (0.4.4)\n",
            "Requirement already satisfied: bleach in /usr/local/lib/python3.7/dist-packages (from nbconvert->notebook>=4.4.1->widgetsnbextension~=3.5.0->ipywidgets>=7.0.0->pydeck>=0.1.dev5->streamlit) (3.3.0)\n",
            "Requirement already satisfied: pandocfilters>=1.4.1 in /usr/local/lib/python3.7/dist-packages (from nbconvert->notebook>=4.4.1->widgetsnbextension~=3.5.0->ipywidgets>=7.0.0->pydeck>=0.1.dev5->streamlit) (1.4.3)\n",
            "Requirement already satisfied: defusedxml in /usr/local/lib/python3.7/dist-packages (from nbconvert->notebook>=4.4.1->widgetsnbextension~=3.5.0->ipywidgets>=7.0.0->pydeck>=0.1.dev5->streamlit) (0.7.1)\n",
            "Requirement already satisfied: webencodings in /usr/local/lib/python3.7/dist-packages (from bleach->nbconvert->notebook>=4.4.1->widgetsnbextension~=3.5.0->ipywidgets>=7.0.0->pydeck>=0.1.dev5->streamlit) (0.5.1)\n",
            "Requirement already satisfied: pyngrok in /usr/local/lib/python3.7/dist-packages (5.0.5)\n",
            "Requirement already satisfied: PyYAML in /usr/local/lib/python3.7/dist-packages (from pyngrok) (3.13)\n",
            "time: 5.59 s (started: 2021-05-23 16:03:45 +00:00)\n"
          ],
          "name": "stdout"
        }
      ]
    },
    {
      "cell_type": "code",
      "metadata": {
        "id": "14g5G_pCVisw"
      },
      "source": [
        ""
      ],
      "execution_count": null,
      "outputs": []
    }
  ]
}